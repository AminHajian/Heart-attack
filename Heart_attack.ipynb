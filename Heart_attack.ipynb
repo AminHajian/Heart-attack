{
 "cells": [
  {
   "cell_type": "markdown",
   "metadata": {},
   "source": [
    "### I will use :\n",
    "- KNN \n",
    "- Decision Trees\n",
    "- Logistic Regression\n",
    "- SVM :\n",
    "    - poly\n",
    "    - linear\n",
    "    - sigmoid\n",
    "    - rbf\n",
    "\n",
    "#### add primary imports"
   ]
  },
  {
   "cell_type": "code",
   "execution_count": 1,
   "metadata": {},
   "outputs": [],
   "source": [
    "import numpy as np\n",
    "import matplotlib.pyplot as plt\n",
    "import pandas as pd\n",
    "from sklearn import preprocessing\n",
    "from sklearn.model_selection import train_test_split\n",
    "from sklearn import metrics\n",
    "from sklearn.neighbors import KNeighborsClassifier\n"
   ]
  },
  {
   "cell_type": "markdown",
   "metadata": {},
   "source": [
    "#### Load csv"
   ]
  },
  {
   "cell_type": "code",
   "execution_count": 2,
   "metadata": {},
   "outputs": [
    {
     "data": {
      "text/html": [
       "<div>\n",
       "<style scoped>\n",
       "    .dataframe tbody tr th:only-of-type {\n",
       "        vertical-align: middle;\n",
       "    }\n",
       "\n",
       "    .dataframe tbody tr th {\n",
       "        vertical-align: top;\n",
       "    }\n",
       "\n",
       "    .dataframe thead th {\n",
       "        text-align: right;\n",
       "    }\n",
       "</style>\n",
       "<table border=\"1\" class=\"dataframe\">\n",
       "  <thead>\n",
       "    <tr style=\"text-align: right;\">\n",
       "      <th></th>\n",
       "      <th>age</th>\n",
       "      <th>sex</th>\n",
       "      <th>cp</th>\n",
       "      <th>trtbps</th>\n",
       "      <th>chol</th>\n",
       "      <th>fbs</th>\n",
       "      <th>restecg</th>\n",
       "      <th>thalachh</th>\n",
       "      <th>exng</th>\n",
       "      <th>oldpeak</th>\n",
       "      <th>slp</th>\n",
       "      <th>caa</th>\n",
       "      <th>thall</th>\n",
       "      <th>output</th>\n",
       "    </tr>\n",
       "  </thead>\n",
       "  <tbody>\n",
       "    <tr>\n",
       "      <th>0</th>\n",
       "      <td>63</td>\n",
       "      <td>1</td>\n",
       "      <td>3</td>\n",
       "      <td>145</td>\n",
       "      <td>233</td>\n",
       "      <td>1</td>\n",
       "      <td>0</td>\n",
       "      <td>150</td>\n",
       "      <td>0</td>\n",
       "      <td>2.3</td>\n",
       "      <td>0</td>\n",
       "      <td>0</td>\n",
       "      <td>1</td>\n",
       "      <td>1</td>\n",
       "    </tr>\n",
       "    <tr>\n",
       "      <th>1</th>\n",
       "      <td>37</td>\n",
       "      <td>1</td>\n",
       "      <td>2</td>\n",
       "      <td>130</td>\n",
       "      <td>250</td>\n",
       "      <td>0</td>\n",
       "      <td>1</td>\n",
       "      <td>187</td>\n",
       "      <td>0</td>\n",
       "      <td>3.5</td>\n",
       "      <td>0</td>\n",
       "      <td>0</td>\n",
       "      <td>2</td>\n",
       "      <td>1</td>\n",
       "    </tr>\n",
       "    <tr>\n",
       "      <th>2</th>\n",
       "      <td>41</td>\n",
       "      <td>0</td>\n",
       "      <td>1</td>\n",
       "      <td>130</td>\n",
       "      <td>204</td>\n",
       "      <td>0</td>\n",
       "      <td>0</td>\n",
       "      <td>172</td>\n",
       "      <td>0</td>\n",
       "      <td>1.4</td>\n",
       "      <td>2</td>\n",
       "      <td>0</td>\n",
       "      <td>2</td>\n",
       "      <td>1</td>\n",
       "    </tr>\n",
       "    <tr>\n",
       "      <th>3</th>\n",
       "      <td>56</td>\n",
       "      <td>1</td>\n",
       "      <td>1</td>\n",
       "      <td>120</td>\n",
       "      <td>236</td>\n",
       "      <td>0</td>\n",
       "      <td>1</td>\n",
       "      <td>178</td>\n",
       "      <td>0</td>\n",
       "      <td>0.8</td>\n",
       "      <td>2</td>\n",
       "      <td>0</td>\n",
       "      <td>2</td>\n",
       "      <td>1</td>\n",
       "    </tr>\n",
       "    <tr>\n",
       "      <th>4</th>\n",
       "      <td>57</td>\n",
       "      <td>0</td>\n",
       "      <td>0</td>\n",
       "      <td>120</td>\n",
       "      <td>354</td>\n",
       "      <td>0</td>\n",
       "      <td>1</td>\n",
       "      <td>163</td>\n",
       "      <td>1</td>\n",
       "      <td>0.6</td>\n",
       "      <td>2</td>\n",
       "      <td>0</td>\n",
       "      <td>2</td>\n",
       "      <td>1</td>\n",
       "    </tr>\n",
       "    <tr>\n",
       "      <th>...</th>\n",
       "      <td>...</td>\n",
       "      <td>...</td>\n",
       "      <td>...</td>\n",
       "      <td>...</td>\n",
       "      <td>...</td>\n",
       "      <td>...</td>\n",
       "      <td>...</td>\n",
       "      <td>...</td>\n",
       "      <td>...</td>\n",
       "      <td>...</td>\n",
       "      <td>...</td>\n",
       "      <td>...</td>\n",
       "      <td>...</td>\n",
       "      <td>...</td>\n",
       "    </tr>\n",
       "    <tr>\n",
       "      <th>298</th>\n",
       "      <td>57</td>\n",
       "      <td>0</td>\n",
       "      <td>0</td>\n",
       "      <td>140</td>\n",
       "      <td>241</td>\n",
       "      <td>0</td>\n",
       "      <td>1</td>\n",
       "      <td>123</td>\n",
       "      <td>1</td>\n",
       "      <td>0.2</td>\n",
       "      <td>1</td>\n",
       "      <td>0</td>\n",
       "      <td>3</td>\n",
       "      <td>0</td>\n",
       "    </tr>\n",
       "    <tr>\n",
       "      <th>299</th>\n",
       "      <td>45</td>\n",
       "      <td>1</td>\n",
       "      <td>3</td>\n",
       "      <td>110</td>\n",
       "      <td>264</td>\n",
       "      <td>0</td>\n",
       "      <td>1</td>\n",
       "      <td>132</td>\n",
       "      <td>0</td>\n",
       "      <td>1.2</td>\n",
       "      <td>1</td>\n",
       "      <td>0</td>\n",
       "      <td>3</td>\n",
       "      <td>0</td>\n",
       "    </tr>\n",
       "    <tr>\n",
       "      <th>300</th>\n",
       "      <td>68</td>\n",
       "      <td>1</td>\n",
       "      <td>0</td>\n",
       "      <td>144</td>\n",
       "      <td>193</td>\n",
       "      <td>1</td>\n",
       "      <td>1</td>\n",
       "      <td>141</td>\n",
       "      <td>0</td>\n",
       "      <td>3.4</td>\n",
       "      <td>1</td>\n",
       "      <td>2</td>\n",
       "      <td>3</td>\n",
       "      <td>0</td>\n",
       "    </tr>\n",
       "    <tr>\n",
       "      <th>301</th>\n",
       "      <td>57</td>\n",
       "      <td>1</td>\n",
       "      <td>0</td>\n",
       "      <td>130</td>\n",
       "      <td>131</td>\n",
       "      <td>0</td>\n",
       "      <td>1</td>\n",
       "      <td>115</td>\n",
       "      <td>1</td>\n",
       "      <td>1.2</td>\n",
       "      <td>1</td>\n",
       "      <td>1</td>\n",
       "      <td>3</td>\n",
       "      <td>0</td>\n",
       "    </tr>\n",
       "    <tr>\n",
       "      <th>302</th>\n",
       "      <td>57</td>\n",
       "      <td>0</td>\n",
       "      <td>1</td>\n",
       "      <td>130</td>\n",
       "      <td>236</td>\n",
       "      <td>0</td>\n",
       "      <td>0</td>\n",
       "      <td>174</td>\n",
       "      <td>0</td>\n",
       "      <td>0.0</td>\n",
       "      <td>1</td>\n",
       "      <td>1</td>\n",
       "      <td>2</td>\n",
       "      <td>0</td>\n",
       "    </tr>\n",
       "  </tbody>\n",
       "</table>\n",
       "<p>303 rows × 14 columns</p>\n",
       "</div>"
      ],
      "text/plain": [
       "     age  sex  cp  trtbps  chol  fbs  restecg  thalachh  exng  oldpeak  slp  \\\n",
       "0     63    1   3     145   233    1        0       150     0      2.3    0   \n",
       "1     37    1   2     130   250    0        1       187     0      3.5    0   \n",
       "2     41    0   1     130   204    0        0       172     0      1.4    2   \n",
       "3     56    1   1     120   236    0        1       178     0      0.8    2   \n",
       "4     57    0   0     120   354    0        1       163     1      0.6    2   \n",
       "..   ...  ...  ..     ...   ...  ...      ...       ...   ...      ...  ...   \n",
       "298   57    0   0     140   241    0        1       123     1      0.2    1   \n",
       "299   45    1   3     110   264    0        1       132     0      1.2    1   \n",
       "300   68    1   0     144   193    1        1       141     0      3.4    1   \n",
       "301   57    1   0     130   131    0        1       115     1      1.2    1   \n",
       "302   57    0   1     130   236    0        0       174     0      0.0    1   \n",
       "\n",
       "     caa  thall  output  \n",
       "0      0      1       1  \n",
       "1      0      2       1  \n",
       "2      0      2       1  \n",
       "3      0      2       1  \n",
       "4      0      2       1  \n",
       "..   ...    ...     ...  \n",
       "298    0      3       0  \n",
       "299    0      3       0  \n",
       "300    2      3       0  \n",
       "301    1      3       0  \n",
       "302    1      2       0  \n",
       "\n",
       "[303 rows x 14 columns]"
      ]
     },
     "execution_count": 2,
     "metadata": {},
     "output_type": "execute_result"
    }
   ],
   "source": [
    "df = pd.read_csv(\"heart.csv\")\n",
    "df"
   ]
  },
  {
   "cell_type": "code",
   "execution_count": 3,
   "metadata": {},
   "outputs": [
    {
     "data": {
      "text/plain": [
       "age           int64\n",
       "sex           int64\n",
       "cp            int64\n",
       "trtbps        int64\n",
       "chol          int64\n",
       "fbs           int64\n",
       "restecg       int64\n",
       "thalachh      int64\n",
       "exng          int64\n",
       "oldpeak     float64\n",
       "slp           int64\n",
       "caa           int64\n",
       "thall         int64\n",
       "output        int64\n",
       "dtype: object"
      ]
     },
     "execution_count": 3,
     "metadata": {},
     "output_type": "execute_result"
    }
   ],
   "source": [
    "df.dtypes"
   ]
  },
  {
   "cell_type": "markdown",
   "metadata": {},
   "source": [
    "#### Grouped the data to X and Y\n"
   ]
  },
  {
   "cell_type": "code",
   "execution_count": 4,
   "metadata": {},
   "outputs": [
    {
     "name": "stdout",
     "output_type": "stream",
     "text": [
      "[[ 63.    1.    3.  145.  233.    1.    0.  150.    0.    2.3   0.    0.\n",
      "    1. ]\n",
      " [ 37.    1.    2.  130.  250.    0.    1.  187.    0.    3.5   0.    0.\n",
      "    2. ]\n",
      " [ 41.    0.    1.  130.  204.    0.    0.  172.    0.    1.4   2.    0.\n",
      "    2. ]\n",
      " [ 56.    1.    1.  120.  236.    0.    1.  178.    0.    0.8   2.    0.\n",
      "    2. ]\n",
      " [ 57.    0.    0.  120.  354.    0.    1.  163.    1.    0.6   2.    0.\n",
      "    2. ]]\n",
      "[1 1 1 1 1]\n"
     ]
    }
   ],
   "source": [
    "feature_df = df[['age', 'sex', 'cp', 'trtbps', 'chol', 'fbs', 'restecg', 'thalachh', 'exng' , 'oldpeak', \"slp\" ,  'caa', 'thall']]\n",
    "X = np.asarray(feature_df)\n",
    "print(X[0:5])\n",
    "\n",
    "\n",
    "\n",
    "y = np.asarray(df['output'])\n",
    "print(y[0:5])"
   ]
  },
  {
   "cell_type": "markdown",
   "metadata": {},
   "source": [
    "#### Train/Test dataset"
   ]
  },
  {
   "cell_type": "code",
   "execution_count": 5,
   "metadata": {},
   "outputs": [
    {
     "name": "stdout",
     "output_type": "stream",
     "text": [
      "Train set: (242, 13) (242,)\n",
      "Test set: (61, 13) (61,)\n"
     ]
    }
   ],
   "source": [
    "X_train, X_test, y_train, y_test = train_test_split( X, y, test_size=0.2, random_state=4)\n",
    "print ('Train set:', X_train.shape,  y_train.shape)\n",
    "print ('Test set:', X_test.shape,  y_test.shape)"
   ]
  },
  {
   "cell_type": "markdown",
   "metadata": {},
   "source": [
    "#### <span style=\"color: red;\">KNN modeling : \n",
    "- #### use all parameters to prediction :"
   ]
  },
  {
   "cell_type": "code",
   "execution_count": 6,
   "metadata": {},
   "outputs": [
    {
     "name": "stdout",
     "output_type": "stream",
     "text": [
      "The best accuracy was with 0.7377049180327869 with k= 31\n"
     ]
    }
   ],
   "source": [
    "Ks = 100                                               \n",
    "mean_acc = np.zeros((Ks-1))\n",
    "std_acc = np.zeros((Ks-1))\n",
    "\n",
    "\n",
    "for n in range(1,Ks):\n",
    "    \n",
    "    #Train Model and Predict  \n",
    "    neigh = KNeighborsClassifier(n_neighbors = n).fit(X_train,y_train)\n",
    "    yhat=neigh.predict(X_test)\n",
    "    mean_acc[n-1] = metrics.accuracy_score(y_test, yhat)\n",
    "    std_acc[n-1]=np.std(yhat==y_test)/np.sqrt(yhat.shape[0])\n",
    "\n",
    "\n",
    "print( \"The best accuracy was with\", mean_acc.max(), \"with k=\", mean_acc.argmax()+1) \n"
   ]
  },
  {
   "cell_type": "markdown",
   "metadata": {},
   "source": [
    "#### add a magic loop to find the best parameters :"
   ]
  },
  {
   "cell_type": "code",
   "execution_count": null,
   "metadata": {},
   "outputs": [],
   "source": [
    "import itertools\n",
    "\n",
    "best_accuracy = 0\n",
    "best_features = None\n",
    "best_k = None\n",
    "\n",
    "# create a list of all feature combinations\n",
    "feature_combinations = []\n",
    "for r in range(1, len(df.columns)-1):\n",
    "    feature_combinations.extend(itertools.combinations(df.columns[:-1], r))\n",
    "\n",
    "# loop through all feature combinations\n",
    "for features in feature_combinations:\n",
    "    feature_df = df[list(features)]\n",
    "    XX = np.asarray(feature_df)\n",
    "    yy = np.asarray(df['output'])\n",
    "\n",
    "    X_train, X_test, y_train, y_test = train_test_split(X, y, test_size=0.2, random_state=4)\n",
    "\n",
    "    Ks = 50\n",
    "    mean_acc = np.zeros((Ks-1))\n",
    "\n",
    "    for n in range(1, Ks):\n",
    "        # Train Model and Predict\n",
    "        neigh = KNeighborsClassifier(n_neighbors=n).fit(X_train, y_train)\n",
    "        yhat = neigh.predict(X_test)\n",
    "        mean_acc[n-1] = metrics.accuracy_score(y_test, yhat)\n",
    "\n",
    "    # print(f\"Features: {features}\\nBest accuracy: {mean_acc.max()} with k={mean_acc.argmax()+1}\\n\")\n",
    "\n",
    "    # check if this feature subset is the best so far\n",
    "    if mean_acc.max() > best_accuracy:\n",
    "        best_accuracy = mean_acc.max()\n",
    "        best_features = features\n",
    "        best_k = mean_acc.argmax() + 1\n",
    "        print(f\"Features: {features}\\nBest accuracy: {mean_acc.max()} with k={mean_acc.argmax()+1}\\n\")\n",
    "        \n",
    "        \n",
    "print(f\"Best feature subset: {best_features}\\nBest accuracy: {best_accuracy} with k={best_k}\")\n",
    "\n",
    "\n",
    "# output ------------------------------------------------ \n",
    "# Features: ('age',)\n",
    "# Best accuracy: 0.639344262295082 with k=52\n",
    "\n",
    "# Features: ('cp',)\n",
    "# Best accuracy: 0.8032786885245902 with k=3\n",
    "\n",
    "# Features: ('cp', 'restecg')\n",
    "# Best accuracy: 0.819672131147541 with k=28\n",
    "\n",
    "# Features: ('cp', 'oldpeak')\n",
    "# Best accuracy: 0.8360655737704918 with k=13\n",
    "\n",
    "# Features: ('exng', 'caa')\n",
    "# Best accuracy: 0.8688524590163934 with k=7\n",
    "\n",
    "# Features: ('cp', 'exng', 'caa')\n",
    "# Best accuracy: 0.9016393442622951 with k=20\n",
    "\n",
    "# Features: ('cp', 'oldpeak', 'caa', 'thall')\n",
    "# Best accuracy: 0.9180327868852459 with k=20\n",
    "\n",
    "# Features: ('sex', 'cp', 'exng', 'oldpeak', 'slp', 'caa', 'thall')\n",
    "# Best accuracy: 0.9344262295081968 with k=5\n",
    "\n",
    "# Best feature subset: ('sex', 'cp', 'exng', 'oldpeak', 'slp', 'caa', 'thall')\n",
    "# Best accuracy: 0.9344262295081968 with k=5\n"
   ]
  },
  {
   "cell_type": "markdown",
   "metadata": {},
   "source": [
    "##### I find the best feature now time to fit :"
   ]
  },
  {
   "cell_type": "code",
   "execution_count": 10,
   "metadata": {},
   "outputs": [
    {
     "name": "stdout",
     "output_type": "stream",
     "text": [
      "The best accuracy was with 0.9344262295081968 with k= 4\n"
     ]
    }
   ],
   "source": [
    "feature = df[['sex', 'cp', 'exng', 'oldpeak', 'slp', 'caa', 'thall']]\n",
    "X_train, X_test, y_train, y_test = train_test_split( feature, y, test_size=0.2, random_state=4)\n",
    "\n",
    "\n",
    "Ks = 5                                               \n",
    "mean_acc = np.zeros((Ks-1))\n",
    "std_acc = np.zeros((Ks-1))\n",
    "\n",
    " \n",
    "neigh = KNeighborsClassifier(n_neighbors = Ks).fit(X_train,y_train)\n",
    "yhat=neigh.predict(X_test)\n",
    "mean_acc[Ks-2] = metrics.accuracy_score(y_test, yhat)\n",
    "std_acc[Ks-2]=np.std(yhat==y_test)/np.sqrt(yhat.shape[0])\n",
    "\n",
    "\n",
    "print( \"The best accuracy was with\", mean_acc.max(), \"with k=\", mean_acc.argmax()+1) "
   ]
  },
  {
   "cell_type": "markdown",
   "metadata": {},
   "source": [
    "##### time to test for real parameters :"
   ]
  },
  {
   "cell_type": "code",
   "execution_count": 11,
   "metadata": {},
   "outputs": [
    {
     "data": {
      "text/plain": [
       "array([1], dtype=int64)"
      ]
     },
     "execution_count": 11,
     "metadata": {},
     "output_type": "execute_result"
    }
   ],
   "source": [
    "real_parameters = [[1,2,0,0.5,2,0,3]]\n",
    "feature_names = ['sex', 'cp', 'exng', 'oldpeak', 'slp', 'caa', 'thall']\n",
    "real_parameters_with_names = pd.DataFrame(real_parameters, columns=feature_names)\n",
    "neigh.predict(real_parameters_with_names)"
   ]
  },
  {
   "cell_type": "markdown",
   "metadata": {},
   "source": [
    "#### <span style=\"color: red;\">decision tree modeling : \n",
    "- use all parameters to prediction :\n"
   ]
  },
  {
   "cell_type": "code",
   "execution_count": 12,
   "metadata": {},
   "outputs": [
    {
     "name": "stdout",
     "output_type": "stream",
     "text": [
      "Train set: (242, 13) (242, 13)\n",
      "Test set: (61, 13) (61,)\n"
     ]
    }
   ],
   "source": [
    "feature_df = df[['age', 'sex', 'cp', 'trtbps', 'chol', 'fbs', 'restecg', 'thalachh', 'exng' , 'oldpeak', \"slp\" ,  'caa', 'thall']]\n",
    "X = np.asarray(feature_df)\n",
    "y = np.asarray(df['output'])\n",
    "\n",
    "X_train_Tree, X_test_Tree, y_train_Tree, y_test_Tree = train_test_split( X, y, test_size=0.2, random_state=4)\n",
    "print ('Train set:', X_train_Tree.shape,  X_train_Tree.shape)\n",
    "print ('Test set:', X_test_Tree.shape,  y_test_Tree.shape)"
   ]
  },
  {
   "cell_type": "code",
   "execution_count": 13,
   "metadata": {},
   "outputs": [
    {
     "name": "stdout",
     "output_type": "stream",
     "text": [
      "Accuracy:  0.8524590163934426\n"
     ]
    }
   ],
   "source": [
    "from sklearn.tree import DecisionTreeClassifier\n",
    "from sklearn import metrics\n",
    "\n",
    "\n",
    "heartTree = DecisionTreeClassifier(criterion=\"entropy\", max_depth = 4)\n",
    "heartTree.fit(X_train_Tree,y_train_Tree)\n",
    "predTree = heartTree.predict(X_test_Tree)\n",
    "print(\"Accuracy: \", metrics.accuracy_score(y_test_Tree, predTree))\n"
   ]
  },
  {
   "cell_type": "markdown",
   "metadata": {},
   "source": [
    "#### Add a magic loop to find the best parameters :"
   ]
  },
  {
   "cell_type": "code",
   "execution_count": null,
   "metadata": {},
   "outputs": [],
   "source": [
    "import itertools\n",
    "\n",
    "best_accuracy = 0\n",
    "best_features = None\n",
    "best_n = None\n",
    "\n",
    "# create a list of all feature combinations\n",
    "feature_combinations = []\n",
    "for r in range(1, len(df.columns)-1):\n",
    "    feature_combinations.extend(itertools.combinations(df.columns[:-1], r))\n",
    "\n",
    "\n",
    "\n",
    "# loop through all feature combinations\n",
    "for features in feature_combinations:\n",
    "    feature_df = df[list(features)]\n",
    "    XX = np.asarray(feature_df)\n",
    "    yy = np.asarray(df['output'])\n",
    "\n",
    "    X_train, X_test, y_train, y_test = train_test_split(X, y, test_size=0.2, random_state=4)\n",
    "\n",
    "    for n in range (1,10) :\n",
    "        heartTree = DecisionTreeClassifier(criterion=\"entropy\", max_depth = n)\n",
    "        heartTree.fit(X_train,y_train)\n",
    "        predTree = heartTree.predict(X_test)\n",
    "    \n",
    "    # check if this feature subset is the best so far\n",
    "        if metrics.accuracy_score(y_test, predTree) > best_accuracy:\n",
    "            best_accuracy = metrics.accuracy_score(y_test, predTree)\n",
    "            best_features = features\n",
    "            best_n = n\n",
    "            print(\"Accuracy: \", metrics.accuracy_score(y_test, predTree) , \"feature :\", best_features , best_n)        \n",
    "        \n",
    "        \n",
    "print(\"Best Accuracy: \", best_accuracy , \"best feature :\", best_features , best_n)   \n",
    "\n",
    "\n",
    "\n",
    "# output -----------------------------------------------------------------------------------------------\n",
    "# Accuracy:  0.5901639344262295 feature : ('age',) 1\n",
    "# Accuracy:  0.8032786885245902 feature : ('cp',) 1\n",
    "# Accuracy:  0.819672131147541 feature : ('cp', 'thalachh') 3\n",
    "# Accuracy:  0.8524590163934426 feature : ('exng', 'caa') 2\n",
    "# Accuracy:  0.8688524590163934 feature : ('exng', 'caa') 3\n",
    "# Accuracy:  0.9016393442622951 feature : ('cp', 'caa', 'thall') 4\n",
    "# Accuracy:  0.9180327868852459 feature : ('cp', 'exng', 'slp', 'caa', 'thall') 7\n",
    "# Accuracy:  0.9344262295081968 feature : ('cp', 'fbs', 'restecg', 'exng', 'slp', 'caa', 'thall') 7\n",
    "# Best Accuracy:  0.9344262295081968 best feature : ('cp', 'fbs', 'restecg', 'exng', 'slp', 'caa', 'thall') 7    \n",
    "\n"
   ]
  },
  {
   "attachments": {},
   "cell_type": "markdown",
   "metadata": {},
   "source": [
    "#### <span style=\"color: red;\">Logistic Regression : \n",
    "- preprocessing :"
   ]
  },
  {
   "cell_type": "code",
   "execution_count": 21,
   "metadata": {},
   "outputs": [
    {
     "name": "stdout",
     "output_type": "stream",
     "text": [
      "Train set: (242, 13) (242,)\n",
      "Test set: (61, 13) (61,)\n"
     ]
    }
   ],
   "source": [
    "feature_df = df[['age', 'sex', 'cp', 'trtbps', 'chol', 'fbs', 'restecg', 'thalachh', 'exng' , 'oldpeak', \"slp\" ,  'caa', 'thall']]\n",
    "X = np.asarray(feature_df)\n",
    "y = np.asarray(df['output'])\n",
    "\n",
    "X_train_LR, X_test_LR, y_train_LR, y_test_LR = train_test_split( X, y, test_size=0.2, random_state=4)\n",
    "print ('Train set:', X_train_LR.shape,  y_train_LR.shape)\n",
    "print ('Test set:', X_test_LR.shape,  y_test_LR.shape)"
   ]
  },
  {
   "attachments": {},
   "cell_type": "markdown",
   "metadata": {},
   "source": [
    "#### Modeling :"
   ]
  },
  {
   "cell_type": "code",
   "execution_count": 22,
   "metadata": {},
   "outputs": [
    {
     "data": {
      "text/html": [
       "<style>#sk-container-id-2 {color: black;background-color: white;}#sk-container-id-2 pre{padding: 0;}#sk-container-id-2 div.sk-toggleable {background-color: white;}#sk-container-id-2 label.sk-toggleable__label {cursor: pointer;display: block;width: 100%;margin-bottom: 0;padding: 0.3em;box-sizing: border-box;text-align: center;}#sk-container-id-2 label.sk-toggleable__label-arrow:before {content: \"▸\";float: left;margin-right: 0.25em;color: #696969;}#sk-container-id-2 label.sk-toggleable__label-arrow:hover:before {color: black;}#sk-container-id-2 div.sk-estimator:hover label.sk-toggleable__label-arrow:before {color: black;}#sk-container-id-2 div.sk-toggleable__content {max-height: 0;max-width: 0;overflow: hidden;text-align: left;background-color: #f0f8ff;}#sk-container-id-2 div.sk-toggleable__content pre {margin: 0.2em;color: black;border-radius: 0.25em;background-color: #f0f8ff;}#sk-container-id-2 input.sk-toggleable__control:checked~div.sk-toggleable__content {max-height: 200px;max-width: 100%;overflow: auto;}#sk-container-id-2 input.sk-toggleable__control:checked~label.sk-toggleable__label-arrow:before {content: \"▾\";}#sk-container-id-2 div.sk-estimator input.sk-toggleable__control:checked~label.sk-toggleable__label {background-color: #d4ebff;}#sk-container-id-2 div.sk-label input.sk-toggleable__control:checked~label.sk-toggleable__label {background-color: #d4ebff;}#sk-container-id-2 input.sk-hidden--visually {border: 0;clip: rect(1px 1px 1px 1px);clip: rect(1px, 1px, 1px, 1px);height: 1px;margin: -1px;overflow: hidden;padding: 0;position: absolute;width: 1px;}#sk-container-id-2 div.sk-estimator {font-family: monospace;background-color: #f0f8ff;border: 1px dotted black;border-radius: 0.25em;box-sizing: border-box;margin-bottom: 0.5em;}#sk-container-id-2 div.sk-estimator:hover {background-color: #d4ebff;}#sk-container-id-2 div.sk-parallel-item::after {content: \"\";width: 100%;border-bottom: 1px solid gray;flex-grow: 1;}#sk-container-id-2 div.sk-label:hover label.sk-toggleable__label {background-color: #d4ebff;}#sk-container-id-2 div.sk-serial::before {content: \"\";position: absolute;border-left: 1px solid gray;box-sizing: border-box;top: 0;bottom: 0;left: 50%;z-index: 0;}#sk-container-id-2 div.sk-serial {display: flex;flex-direction: column;align-items: center;background-color: white;padding-right: 0.2em;padding-left: 0.2em;position: relative;}#sk-container-id-2 div.sk-item {position: relative;z-index: 1;}#sk-container-id-2 div.sk-parallel {display: flex;align-items: stretch;justify-content: center;background-color: white;position: relative;}#sk-container-id-2 div.sk-item::before, #sk-container-id-2 div.sk-parallel-item::before {content: \"\";position: absolute;border-left: 1px solid gray;box-sizing: border-box;top: 0;bottom: 0;left: 50%;z-index: -1;}#sk-container-id-2 div.sk-parallel-item {display: flex;flex-direction: column;z-index: 1;position: relative;background-color: white;}#sk-container-id-2 div.sk-parallel-item:first-child::after {align-self: flex-end;width: 50%;}#sk-container-id-2 div.sk-parallel-item:last-child::after {align-self: flex-start;width: 50%;}#sk-container-id-2 div.sk-parallel-item:only-child::after {width: 0;}#sk-container-id-2 div.sk-dashed-wrapped {border: 1px dashed gray;margin: 0 0.4em 0.5em 0.4em;box-sizing: border-box;padding-bottom: 0.4em;background-color: white;}#sk-container-id-2 div.sk-label label {font-family: monospace;font-weight: bold;display: inline-block;line-height: 1.2em;}#sk-container-id-2 div.sk-label-container {text-align: center;}#sk-container-id-2 div.sk-container {/* jupyter's `normalize.less` sets `[hidden] { display: none; }` but bootstrap.min.css set `[hidden] { display: none !important; }` so we also need the `!important` here to be able to override the default hidden behavior on the sphinx rendered scikit-learn.org. See: https://github.com/scikit-learn/scikit-learn/issues/21755 */display: inline-block !important;position: relative;}#sk-container-id-2 div.sk-text-repr-fallback {display: none;}</style><div id=\"sk-container-id-2\" class=\"sk-top-container\"><div class=\"sk-text-repr-fallback\"><pre>LogisticRegression(C=0.01, solver=&#x27;liblinear&#x27;)</pre><b>In a Jupyter environment, please rerun this cell to show the HTML representation or trust the notebook. <br />On GitHub, the HTML representation is unable to render, please try loading this page with nbviewer.org.</b></div><div class=\"sk-container\" hidden><div class=\"sk-item\"><div class=\"sk-estimator sk-toggleable\"><input class=\"sk-toggleable__control sk-hidden--visually\" id=\"sk-estimator-id-2\" type=\"checkbox\" checked><label for=\"sk-estimator-id-2\" class=\"sk-toggleable__label sk-toggleable__label-arrow\">LogisticRegression</label><div class=\"sk-toggleable__content\"><pre>LogisticRegression(C=0.01, solver=&#x27;liblinear&#x27;)</pre></div></div></div></div></div>"
      ],
      "text/plain": [
       "LogisticRegression(C=0.01, solver='liblinear')"
      ]
     },
     "execution_count": 22,
     "metadata": {},
     "output_type": "execute_result"
    }
   ],
   "source": [
    "from sklearn.linear_model import LogisticRegression\n",
    "from sklearn.metrics import confusion_matrix\n",
    "\n",
    "LR = LogisticRegression(C=0.01, solver='liblinear').fit(X_train_LR,y_train_LR)\n",
    "LR"
   ]
  },
  {
   "attachments": {},
   "cell_type": "markdown",
   "metadata": {},
   "source": [
    "#### predict Time :"
   ]
  },
  {
   "cell_type": "code",
   "execution_count": 24,
   "metadata": {},
   "outputs": [
    {
     "name": "stdout",
     "output_type": "stream",
     "text": [
      "[1 0 1 1 1 1 1 1 1 1 1 1 1 1 1 0 1 1 0 1 1 1 0 1 1 0 0 1 1 0 1 1 1 1 1 1 1\n",
      " 1 1 0 0 0 0 1 1 0 0 1 0 1 0 1 0 1 1 1 1 1 0 0 1]\n",
      "[1 0 1 1 0 0 0 1 1 1 1 1 1 0 1 0 1 1 0 0 1 1 0 1 1 0 0 1 1 0 0 1 1 1 0 1 1\n",
      " 1 0 0 0 0 0 1 1 1 0 0 0 1 0 1 1 1 1 1 1 1 0 0 1]\n"
     ]
    },
    {
     "data": {
      "text/plain": [
       "array([[0.24147448, 0.75852552],\n",
       "       [0.69218888, 0.30781112],\n",
       "       [0.39163558, 0.60836442],\n",
       "       [0.1233538 , 0.8766462 ],\n",
       "       [0.35899742, 0.64100258],\n",
       "       [0.45386182, 0.54613818],\n",
       "       [0.4929031 , 0.5070969 ],\n",
       "       [0.11384778, 0.88615222],\n",
       "       [0.3159304 , 0.6840696 ],\n",
       "       [0.19627002, 0.80372998],\n",
       "       [0.25148238, 0.74851762],\n",
       "       [0.1056052 , 0.8943948 ],\n",
       "       [0.44706037, 0.55293963],\n",
       "       [0.41318617, 0.58681383],\n",
       "       [0.40155536, 0.59844464],\n",
       "       [0.87379089, 0.12620911],\n",
       "       [0.27952687, 0.72047313],\n",
       "       [0.21809055, 0.78190945],\n",
       "       [0.54134364, 0.45865636],\n",
       "       [0.35666152, 0.64333848],\n",
       "       [0.14608802, 0.85391198],\n",
       "       [0.26229681, 0.73770319],\n",
       "       [0.80352779, 0.19647221],\n",
       "       [0.46495612, 0.53504388],\n",
       "       [0.34435255, 0.65564745],\n",
       "       [0.69471404, 0.30528596],\n",
       "       [0.66385902, 0.33614098],\n",
       "       [0.28792839, 0.71207161],\n",
       "       [0.36592698, 0.63407302],\n",
       "       [0.71059579, 0.28940421],\n",
       "       [0.44362418, 0.55637582],\n",
       "       [0.38060165, 0.61939835],\n",
       "       [0.13625865, 0.86374135],\n",
       "       [0.27393347, 0.72606653],\n",
       "       [0.442626  , 0.557374  ],\n",
       "       [0.18905011, 0.81094989],\n",
       "       [0.16442614, 0.83557386],\n",
       "       [0.45597257, 0.54402743],\n",
       "       [0.37132886, 0.62867114],\n",
       "       [0.79480344, 0.20519656],\n",
       "       [0.86287585, 0.13712415],\n",
       "       [0.66344713, 0.33655287],\n",
       "       [0.70205977, 0.29794023],\n",
       "       [0.4609642 , 0.5390358 ],\n",
       "       [0.17297457, 0.82702543],\n",
       "       [0.50704174, 0.49295826],\n",
       "       [0.7086284 , 0.2913716 ],\n",
       "       [0.38216637, 0.61783363],\n",
       "       [0.78577912, 0.21422088],\n",
       "       [0.49417122, 0.50582878],\n",
       "       [0.71736605, 0.28263395],\n",
       "       [0.24619488, 0.75380512],\n",
       "       [0.76810362, 0.23189638],\n",
       "       [0.32164599, 0.67835401],\n",
       "       [0.24228295, 0.75771705],\n",
       "       [0.06122835, 0.93877165],\n",
       "       [0.23568928, 0.76431072],\n",
       "       [0.21787197, 0.78212803],\n",
       "       [0.90575512, 0.09424488],\n",
       "       [0.74913708, 0.25086292],\n",
       "       [0.32637176, 0.67362824]])"
      ]
     },
     "execution_count": 24,
     "metadata": {},
     "output_type": "execute_result"
    }
   ],
   "source": [
    "yhat_LR = LR.predict(X_test)\n",
    "print(yhat_LR)\n",
    "print(y_test_LR)\n",
    "\n",
    "# predict_proba \n",
    "yhat_prob = LR.predict_proba(X_test)\n",
    "yhat_prob"
   ]
  },
  {
   "attachments": {},
   "cell_type": "markdown",
   "metadata": {},
   "source": [
    "#### Evaluation ( jaccard index and log loss )"
   ]
  },
  {
   "cell_type": "code",
   "execution_count": 26,
   "metadata": {},
   "outputs": [
    {
     "name": "stdout",
     "output_type": "stream",
     "text": [
      "Correct prediction percentage of people who want to leave :  0.8947368421052632\n",
      "Correct prediction percentage of people who want to stay  :  0.8518518518518519\n"
     ]
    },
    {
     "data": {
      "text/plain": [
       "0.4335616990946169"
      ]
     },
     "execution_count": 26,
     "metadata": {},
     "output_type": "execute_result"
    }
   ],
   "source": [
    "from sklearn.metrics import jaccard_score\n",
    "from sklearn.metrics import log_loss\n",
    "\n",
    "print( \"Correct prediction percentage of people who want to leave : \", jaccard_score(y_test, yhat,pos_label=1))   \n",
    "print( \"Correct prediction percentage of people who want to stay  : \", jaccard_score(y_test, yhat,pos_label=0))     \n",
    "\n",
    "\n",
    "log_loss(y_test, yhat_prob)"
   ]
  },
  {
   "cell_type": "code",
   "execution_count": null,
   "metadata": {},
   "outputs": [],
   "source": []
  }
 ],
 "metadata": {
  "kernelspec": {
   "display_name": "Python 3 (ipykernel)",
   "language": "python",
   "name": "python3"
  },
  "language_info": {
   "codemirror_mode": {
    "name": "ipython",
    "version": 3
   },
   "file_extension": ".py",
   "mimetype": "text/x-python",
   "name": "python",
   "nbconvert_exporter": "python",
   "pygments_lexer": "ipython3",
   "version": "3.10.10"
  }
 },
 "nbformat": 4,
 "nbformat_minor": 2
}
